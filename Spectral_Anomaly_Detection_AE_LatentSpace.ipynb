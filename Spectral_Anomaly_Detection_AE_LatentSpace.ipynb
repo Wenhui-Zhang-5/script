{
 "cells": [
  {
   "cell_type": "markdown",
   "id": "e54a878e",
   "metadata": {},
   "source": [
    "# 🌈 Spectral Data Anomaly Detection using AutoEncoder Latent Space\n",
    "\n",
    "This notebook demonstrates five methods for anomaly detection based on the latent space of an AutoEncoder:\n",
    "- Reconstruction Error (AE)\n",
    "- Mahalanobis Distance\n",
    "- Gaussian Mixture Model (GMM)\n",
    "- One-Class SVM\n",
    "\n",
    "You can run your own spectral dataset using this structure."
   ]
  },
  {
   "cell_type": "markdown",
   "id": "2d41e6cf",
   "metadata": {},
   "source": [
    "## 📥 Load Your Spectral Data"
   ]
  },
  {
   "cell_type": "code",
   "execution_count": null,
   "id": "59d2445e",
   "metadata": {},
   "outputs": [],
   "source": [
    "import numpy as np\n",
    "import pandas as pd\n",
    "from sklearn.model_selection import train_test_split\n",
    "\n",
    "# Load your data here\n",
    "# X should be shape (n_samples, n_features)\n",
    "# For demonstration, we'll use random data\n",
    "X = np.random.rand(1000, 200)  # Replace with your spectral data\n",
    "\n",
    "# Split into training and test\n",
    "X_train, X_test = train_test_split(X, test_size=0.2, random_state=42)"
   ]
  },
  {
   "cell_type": "markdown",
   "id": "3339eed1",
   "metadata": {},
   "source": [
    "## 🔧 Train AutoEncoder"
   ]
  },
  {
   "cell_type": "code",
   "execution_count": null,
   "id": "4b84b3d7",
   "metadata": {},
   "outputs": [],
   "source": [
    "import torch\n",
    "import torch.nn as nn\n",
    "import torch.optim as optim\n",
    "from torch.utils.data import DataLoader, TensorDataset\n",
    "\n",
    "class AutoEncoder(nn.Module):\n",
    "    def __init__(self, input_dim, latent_dim):\n",
    "        super().__init__()\n",
    "        self.encoder = nn.Sequential(\n",
    "            nn.Linear(input_dim, 128),\n",
    "            nn.ReLU(),\n",
    "            nn.Linear(128, latent_dim)\n",
    "        )\n",
    "        self.decoder = nn.Sequential(\n",
    "            nn.Linear(latent_dim, 128),\n",
    "            nn.ReLU(),\n",
    "            nn.Linear(128, input_dim)\n",
    "        )\n",
    "        \n",
    "    def forward(self, x):\n",
    "        z = self.encoder(x)\n",
    "        return self.decoder(z), z\n",
    "\n",
    "input_dim = X_train.shape[1]\n",
    "latent_dim = 16\n",
    "\n",
    "model = AutoEncoder(input_dim, latent_dim)\n",
    "criterion = nn.MSELoss()\n",
    "optimizer = optim.Adam(model.parameters(), lr=1e-3)\n",
    "\n",
    "train_data = TensorDataset(torch.tensor(X_train, dtype=torch.float32))\n",
    "train_loader = DataLoader(train_data, batch_size=64, shuffle=True)\n",
    "\n",
    "# Training loop\n",
    "model.train()\n",
    "for epoch in range(20):\n",
    "    total_loss = 0\n",
    "    for batch in train_loader:\n",
    "        x = batch[0]\n",
    "        x_hat, _ = model(x)\n",
    "        loss = criterion(x_hat, x)\n",
    "        optimizer.zero_grad()\n",
    "        loss.backward()\n",
    "        optimizer.step()\n",
    "        total_loss += loss.item()\n",
    "    print(f\"Epoch {epoch+1}, Loss: {total_loss:.4f}\")"
   ]
  },
  {
   "cell_type": "markdown",
   "id": "46bad2a2",
   "metadata": {},
   "source": [
    "## 🧠 Extract Latent Features and Reconstruction Error"
   ]
  },
  {
   "cell_type": "code",
   "execution_count": null,
   "id": "c350d9eb",
   "metadata": {},
   "outputs": [],
   "source": [
    "model.eval()\n",
    "with torch.no_grad():\n",
    "    X_train_tensor = torch.tensor(X_train, dtype=torch.float32)\n",
    "    X_test_tensor = torch.tensor(X_test, dtype=torch.float32)\n",
    "    \n",
    "    X_train_recon, Z_train = model(X_train_tensor)\n",
    "    X_test_recon, Z_test = model(X_test_tensor)\n",
    "    \n",
    "    Z_train = Z_train.numpy()\n",
    "    Z_test = Z_test.numpy()\n",
    "    \n",
    "    recon_error_train = ((X_train_tensor - X_train_recon) ** 2).mean(dim=1).numpy()\n",
    "    recon_error_test = ((X_test_tensor - X_test_recon) ** 2).mean(dim=1).numpy()"
   ]
  },
  {
   "cell_type": "markdown",
   "id": "93be9b12",
   "metadata": {},
   "source": [
    "## 📏 Mahalanobis Distance"
   ]
  },
  {
   "cell_type": "code",
   "execution_count": null,
   "id": "dda07c47",
   "metadata": {},
   "outputs": [],
   "source": [
    "from scipy.spatial import distance\n",
    "from numpy.linalg import inv\n",
    "\n",
    "mean_vec = Z_train.mean(axis=0)\n",
    "cov_mat = np.cov(Z_train, rowvar=False)\n",
    "inv_covmat = inv(cov_mat)\n",
    "\n",
    "def mahalanobis(x, mean, inv_cov):\n",
    "    return np.array([distance.mahalanobis(v, mean, inv_cov) for v in x])\n",
    "\n",
    "maha_scores_test = mahalanobis(Z_test, mean_vec, inv_covmat)\n",
    "maha_confidence = 1 / (1 + maha_scores_test)"
   ]
  },
  {
   "cell_type": "markdown",
   "id": "7aa89521",
   "metadata": {},
   "source": [
    "## 📊 Gaussian Mixture Model Likelihood"
   ]
  },
  {
   "cell_type": "code",
   "execution_count": null,
   "id": "fd488ddc",
   "metadata": {},
   "outputs": [],
   "source": [
    "from sklearn.mixture import GaussianMixture\n",
    "\n",
    "gmm = GaussianMixture(n_components=3, covariance_type='full', random_state=42)\n",
    "gmm.fit(Z_train)\n",
    "gmm_scores = gmm.score_samples(Z_test)  # log-likelihood\n",
    "gmm_scores = np.exp(gmm_scores)  # convert to actual likelihood\n",
    "gmm_confidence = gmm_scores / (gmm_scores + 1)"
   ]
  },
  {
   "cell_type": "markdown",
   "id": "c81f2d72",
   "metadata": {},
   "source": [
    "## 🧪 One-Class SVM"
   ]
  },
  {
   "cell_type": "code",
   "execution_count": null,
   "id": "35e3b7d3",
   "metadata": {},
   "outputs": [],
   "source": [
    "from sklearn.svm import OneClassSVM\n",
    "from sklearn.preprocessing import MinMaxScaler\n",
    "\n",
    "ocsvm = OneClassSVM(gamma='auto', nu=0.05)\n",
    "ocsvm.fit(Z_train)\n",
    "svm_scores = ocsvm.decision_function(Z_test)\n",
    "svm_confidence = MinMaxScaler().fit_transform(svm_scores.reshape(-1, 1)).flatten()"
   ]
  },
  {
   "cell_type": "markdown",
   "id": "e2c896f0",
   "metadata": {},
   "source": [
    "## 📈 Compare All Confidence Scores"
   ]
  },
  {
   "cell_type": "code",
   "execution_count": null,
   "id": "1b3871f3",
   "metadata": {},
   "outputs": [],
   "source": [
    "import matplotlib.pyplot as plt\n",
    "\n",
    "plt.figure()\n",
    "plt.hist(recon_error_test, bins=50, alpha=0.6, label='AE MSE')\n",
    "plt.legend()\n",
    "plt.title('AE Reconstruction Error (Test Set)')\n",
    "plt.show()\n",
    "\n",
    "plt.figure()\n",
    "plt.hist(maha_confidence, bins=50, alpha=0.6, label='Mahalanobis Confidence')\n",
    "plt.hist(gmm_confidence, bins=50, alpha=0.6, label='GMM Confidence')\n",
    "plt.hist(svm_confidence, bins=50, alpha=0.6, label='SVM Confidence')\n",
    "plt.legend()\n",
    "plt.title('Confidence Score Comparison')\n",
    "plt.show()"
   ]
  }
 ],
 "metadata": {},
 "nbformat": 4,
 "nbformat_minor": 5
}
